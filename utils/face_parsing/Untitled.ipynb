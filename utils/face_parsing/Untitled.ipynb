{
 "cells": [
  {
   "cell_type": "code",
   "execution_count": 1,
   "id": "signal-commercial",
   "metadata": {},
   "outputs": [],
   "source": [
    "\n",
    "from logger import setup_logger\n",
    "from model import BiSeNet\n",
    "\n",
    "import torch\n",
    "\n",
    "import os\n",
    "import os.path as osp\n",
    "import numpy as np\n",
    "from PIL import Image\n",
    "import torchvision.transforms as transforms\n",
    "import cv2\n",
    "import matplotlib.pyplot as plt"
   ]
  },
  {
   "cell_type": "code",
   "execution_count": 2,
   "id": "complimentary-lover",
   "metadata": {},
   "outputs": [],
   "source": [
    "def vis_parsing_maps(im, parsing_anno, stride, save_im=False, save_path='vis_results/parsing_map_on_im.jpg'):\n",
    "    # Colors for all 20 parts\n",
    "    part_colors = [[255, 0, 0], [255, 85, 0], [255, 170, 0],\n",
    "                   [255, 0, 85], [255, 0, 170],\n",
    "                   [0, 255, 0], [85, 255, 0], [170, 255, 0],\n",
    "                   [0, 255, 85], [0, 255, 170],\n",
    "                   [0, 0, 255], [85, 0, 255], [170, 0, 255],\n",
    "                   [0, 85, 255], [0, 170, 255],\n",
    "                   [255, 255, 0], [255, 255, 85], [255, 255, 170],\n",
    "                   [255, 0, 255], [255, 85, 255], [255, 170, 255],\n",
    "                   [0, 255, 255], [85, 255, 255], [170, 255, 255]]\n",
    "\n",
    "    im = np.array(im)\n",
    "    vis_im = im.copy().astype(np.uint8)\n",
    "    vis_parsing_anno = parsing_anno.copy().astype(np.uint8)\n",
    "    vis_parsing_anno = cv2.resize(vis_parsing_anno, None, fx=stride, fy=stride, interpolation=cv2.INTER_NEAREST)\n",
    "    vis_parsing_anno_color = np.zeros((vis_parsing_anno.shape[0], vis_parsing_anno.shape[1], 3)) + 255\n",
    "\n",
    "    num_of_class = np.max(vis_parsing_anno)\n",
    "\n",
    "    for pi in range(1, num_of_class + 1):\n",
    "        index = np.where(vis_parsing_anno == pi)\n",
    "        vis_parsing_anno_color[index[0], index[1], :] = part_colors[pi]\n",
    "\n",
    "    vis_parsing_anno_color = vis_parsing_anno_color.astype(np.uint8)\n",
    "    # print(vis_parsing_anno_color.shape, vis_im.shape)\n",
    "    vis_im = cv2.addWeighted(cv2.cvtColor(vis_im, cv2.COLOR_RGB2BGR), 0.4, vis_parsing_anno_color, 0.6, 0)\n",
    "\n",
    "    # Save result or not\n",
    "    if save_im:\n",
    "        cv2.imwrite(save_path[:-4] +'.png', vis_parsing_anno)\n",
    "        cv2.imwrite(save_path, vis_im, [int(cv2.IMWRITE_JPEG_QUALITY), 100])\n",
    "\n",
    "    # return vis_im"
   ]
  },
  {
   "cell_type": "code",
   "execution_count": null,
   "id": "interracial-renaissance",
   "metadata": {
    "collapsed": true,
    "jupyter": {
     "outputs_hidden": true
    },
    "tags": []
   },
   "outputs": [
    {
     "name": "stdout",
     "output_type": "stream",
     "text": [
      "[ 0  1  2  3  4 10 12 13 14 16 17]\n",
      "[ 0  1  2  3  7 10 11 12 13 14 16 17]\n",
      "[ 0  1  2  3 12 13 14 16 17]\n",
      "[ 0  1  2  3  4  5  7  8  9 10 12 13 14 15 16 17]\n",
      "[ 0  1  2  4  7  8 10 12 13 14 16 17]\n",
      "[ 0  1  3  5  7  8 10 11 12 13 14 16 17]\n",
      "[ 0  1  2  3  7 10 12 13 14 16 17]\n",
      "[ 0  1  2  3  4  7  8 10 12 13 14 15 16 17]\n",
      "[ 0  1  2  3  7  8 10 11 12 13 14 16 17]\n",
      "[ 0  1  2  4  7  8 10 12 13 14 16 17]\n",
      "[ 0  1  2  3  4  7 10 12 13 14 16 17]\n",
      "[ 0  1  3  5  7  8 14 16 17 18]\n",
      "[ 0  1  2  3  7  8 10 11 12 13 14 16 17]\n",
      "[ 0  1  2  3  8 10 11 12 13 14 16 17]\n",
      "[ 0  1  2  3  7  8 12 13 14 16 17]\n",
      "[ 0  1  2  3  8 10 11 12 13 14 16 17]\n",
      "[ 0  1  2  7 10 12 13 14 16 17]\n",
      "[ 0  1  2  3  8 10 11 12 13 14 16 17]\n",
      "[ 0  1  2  3  7 10 11 12 13 14 16 17]\n",
      "[ 0  1  2  3  4  7  8 12 13 14 16 17]\n",
      "[ 0  1  2  4  7 10 12 13 14 16 17]\n",
      "[ 0  1  2  4  7  8 10 12 13 14 16 17]\n",
      "[ 0  1  2  7 10 12 13 14 16 17 18]\n",
      "[ 0  1  2  4  7 10 12 13 14 16 17]\n",
      "[ 0  1  2  4 10 11 12 13 14 16 17]\n",
      "[ 0  1  2  4  7  8 10 12 13 14 16 17]\n",
      "[ 0  1  2  3  6 10 12 13 14 16 17]\n",
      "[ 0  1  2  3  6  7  8 10 12 13 14 16 17]\n",
      "[ 0  1  2  4  7  9 10 12 13 14 16 17]\n",
      "[ 0  1  2 10 11 12 13 14 16 17]\n",
      "[ 0  1  3  5  8 10 11 12 13 14 16 17]\n",
      "[ 0  1  2  3  4  7 10 11 12 13 14 16 17]\n",
      "[ 0  1  2  3 10 11 12 13 14 16 17]\n",
      "[ 0  1  2  3  4  7 10 12 13 14 16 17]\n",
      "[ 0  1  2  7 10 11 12 13 14 16 17]\n",
      "[ 0  1  2  3  4  6  7  9 10 12 13 14 15 16 17]\n",
      "[ 0  1  2  3 10 11 12 13 14 16 17]\n",
      "[ 0  1  2  3  4  8 14 16 17]\n",
      "[ 0  1  2  3  4  5  7  8 10 12 13 14 16 17]\n",
      "[ 0  1  2  3  7 10 12 13 14 16 17]\n",
      "[ 0  1  2  3  6 10 12 13 14 16 17]\n",
      "[ 0  1  2  3  7 10 12 13 14 16 17]\n",
      "[ 0  1  2  3  6  7  8 10 12 13 14 16 17]\n",
      "[ 0  1  2  4 10 11 12 13 14 16 17]\n",
      "[ 0  1  2  3  7 10 12 13 14 16 17]\n",
      "[ 0  1  2  3  7 10 11 12 13 14 16 17]\n",
      "[ 0  1  2  3  4  5  7  8 10 12 13 14 16 17]\n",
      "[ 0  1  2  7 10 12 13 14 16 17]\n",
      "[ 0  1  2  3  4  7  8 10 12 13 14 16 17]\n",
      "[ 0  1  2  3  8 10 11 12 13 14 16 17]\n",
      "[ 0  1  2  3  7  8 10 12 13 14 16 17 18]\n",
      "[ 0  1  2  4  7 11 12 13 14 16 17]\n",
      "[ 0  1  3  4  5  7 10 12 13 14 16 17]\n",
      "[ 0  1  2  4  7 10 12 13 14 16 17]\n",
      "[ 0  1 14 16 17 18]\n",
      "[ 0  1  2  3  8 10 11 12 13 14 16 17]\n",
      "[ 0  1  2 10 12 13 14 16 17]\n",
      "[ 0  1  3  5  8 10 12 13 14 16 17]\n",
      "[ 0  1  2  3  7 10 12 13 14 16 17]\n",
      "[ 0  1  2  3  4  7 10 12 13 14 16 17]\n",
      "[ 0  1  2  3  4  7 10 12 13 14 16 17]\n",
      "[ 0  1  2  3  7 10 11 12 13 14 16 17]\n",
      "[ 0  1  2  3  7 10 12 13 14 16 17]\n",
      "[ 0  1  2  3  4  7  8 14 16 17]\n",
      "[ 0  1  2  7 10 12 13 14 16 17]\n",
      "[ 0  1  2  7 10 11 12 13 14 16 17]\n",
      "[ 0  1  2  3  8 10 11 12 13 14 16 17]\n",
      "[ 0  1  2  4 10 12 13 14 16 17]\n",
      "[ 0  1  2  3  4  7 10 12 13 14 16 17]\n",
      "[ 0  1  2  4  7 10 12 13 14 16 17]\n",
      "[ 0  1  3  5  7 10 12 13 14 16 17]\n",
      "[ 0  1  2  3  5  7 10 11 12 13 14 16 17]\n",
      "[ 0  1  2  4  7 10 12 13 14 16 17]\n",
      "[ 0  1  2  3  7 14 16 17]\n",
      "[ 0  1  2  3  8 10 11 12 13 14 16 17]\n",
      "[ 0  1  2  3  4  5  7  8 14 16 17]\n",
      "[ 0  1  2  4  7 10 12 13 14 16 17]\n",
      "[ 0  1  2  3  7 10 12 13 14 16 17 18]\n",
      "[ 0  1  2  3 10 11 12 13 14 16 17]\n",
      "[ 0  1  7 12 13 14 16 17]\n",
      "[ 0  1  2  3  7 10 12 13 14 16 17]\n",
      "[ 0  1  2  7 10 11 12 13 14 16 17]\n",
      "[ 0  1  2  3  4  7  8 10 12 13 14 16 17]\n",
      "[ 0  1  2 12 14 16 17]\n",
      "[ 0  1  2  4  7 10 12 13 14 16 17]\n",
      "[ 0  1  2  3  4 10 11 12 13 14 16 17]\n",
      "[ 0  1  2  7 10 12 13 14 16 17 18]\n",
      "[ 0  1  2  3  7  8 10 11 12 13 14 16 17]\n",
      "[ 0  1  2  3  4  5  7 10 12 13 14 16 17]\n",
      "[ 0  1  2  3  4  7  8 10 12 13 14 16 17]\n",
      "[ 0  1  2  4  7 10 12 13 14 16 17]\n",
      "[ 0  1  3  5  8 10 11 12 13 14 16 17]\n",
      "[ 0  1  2  7 10 11 12 13 14 16 17]\n",
      "[ 0  1  2  3  4  7  8 10 11 12 13 14 16 17]\n",
      "[ 0  1  2  3  7 10 11 12 13 14 16 17]\n",
      "[ 0  1  2  7 12 13 14 16 17]\n",
      "[ 0  1  2  3  4  7  9 10 12 13 14 16 17]\n",
      "[ 0  1  2  3  4  7 10 12 13 14 16 17]\n",
      "[ 0  1  2  3  4  7 10 12 13 14 16 17]\n",
      "[ 0  1  2  3  4  7  8 10 12 13 14 16 17]\n",
      "[ 0  1  2  7 10 12 13 14 16 17]\n",
      "[ 0  1  2  4  7 10 12 13 14 16 17]\n",
      "[ 0  1  2  4  7 10 12 13 14 16 17]\n",
      "[ 0  1  3  5  7  8 10 12 13 14 16 17]\n",
      "[ 0  1  2  3  6 10 12 13 14 16 17]\n",
      "[ 0  1  3  5  8 10 11 12 13 14 16 17]\n",
      "[ 0  1  2  3  5  7  8 10 12 13 14 16 17]\n",
      "[ 0  1  2  3  4  5  7  8 10 14 16 17]\n",
      "[ 0  1  2  3  7 10 12 13 14 16 17]\n",
      "[ 0  1  2  4  7 10 12 13 14 16 17]\n",
      "[ 0  1  2  3  7  8 10 12 13 14 16 17]\n",
      "[ 0  1  2  7 10 11 12 13 14 16 17]\n",
      "[ 0  1  2  4  7 10 12 13 14 16 17]\n",
      "[ 0  1  2  4  7 10 12 13 14 16 17]\n",
      "[ 0  1  2  3 10 12 13 14 16 17]\n",
      "[ 0  1  2  3  4  7 10 12 13 14 16 17]\n",
      "[ 0  1  3  5  8 10 12 13 14 16 17]\n",
      "[ 0  1  2  4  7 10 11 12 13 14 16 17]\n",
      "[ 0  1  2  3  4  7 10 12 13 14 16 17]\n",
      "[ 0  1  2  3  4  5  7 10 12 13 14 16 17]\n",
      "[ 0  1  7 14 16 18]\n",
      "[ 0  1  3  5  7  8 10 12 13 14 16 17]\n",
      "[ 0  1  2  3  7  8 10 11 12 13 14 16 17]\n"
     ]
    }
   ],
   "source": [
    "respth='./res/test_res'\n",
    "dspth='/scratch/deepfake-captcha/real_frames/dome/'\n",
    "cp='79999_iter.pth'\n",
    "\n",
    "if not os.path.exists(respth):\n",
    "    os.makedirs(respth)\n",
    "\n",
    "n_classes = 19\n",
    "net = BiSeNet(n_classes=n_classes)\n",
    "net.cuda()\n",
    "save_pth = osp.join('res/cp', cp)\n",
    "net.load_state_dict(torch.load(save_pth))\n",
    "net.eval()\n",
    "\n",
    "to_tensor = transforms.Compose([\n",
    "    transforms.ToTensor(),\n",
    "    transforms.Normalize((0.485, 0.456, 0.406), (0.229, 0.224, 0.225)),\n",
    "])\n",
    "i = 0\n",
    "face_idx = [1, 2, 3, 4, 5, 10, 11, 12, 13]\n",
    "\n",
    "with torch.no_grad():\n",
    "    for image_path in os.listdir(dspth):\n",
    "        img = Image.open(osp.join(dspth, image_path))\n",
    "        image = img.resize((512, 512), Image.BILINEAR)\n",
    "        img = to_tensor(image)\n",
    "        img = torch.unsqueeze(img, 0)\n",
    "        img = img.cuda()\n",
    "        out = net(img)[0]\n",
    "        parsing = out.squeeze(0).cpu().numpy().argmax(0)\n",
    "        print(np.unique(parsing))\n",
    "        i += 1\n",
    "        if i > 1000:\n",
    "            break\n",
    "        for att in face_idx[1:]:\n",
    "            parsing[parsing == att] = face_idx[0]\n",
    "        vis_parsing_maps(image, parsing, stride=1, save_im=True, save_path=osp.join(respth, image_path))"
   ]
  },
  {
   "cell_type": "code",
   "execution_count": 6,
   "id": "c0a6201e-3c07-47b2-a1c9-58dbd562ce92",
   "metadata": {},
   "outputs": [
    {
     "name": "stdout",
     "output_type": "stream",
     "text": [
      "=> Loading face segmentation model: \"celeba_unet_256_1_2_segmentation_v2.pth\"...\n"
     ]
    }
   ],
   "source": [
    "import os\n",
    "import sys\n",
    "sys.path.append('/home/govind/Workspace/fsgan')\n",
    "weights_dir = '/home/govind/Workspace/fsgan/weights' #@param {type:\"string\"}\n",
    "\n",
    "seg_model = os.path.join(weights_dir, 'v2/celeba_unet_256_1_2_segmentation_v2.pth')\n",
    "\n",
    "from fsgan.utils.utils import set_device, load_model\n",
    "S = load_model(seg_model, 'face segmentation', 'cuda')\n",
    "dspth='/scratch/deepfake-captcha/real_frames/dome/'"
   ]
  },
  {
   "cell_type": "code",
   "execution_count": 4,
   "id": "caring-choir",
   "metadata": {
    "tags": []
   },
   "outputs": [
    {
     "name": "stderr",
     "output_type": "stream",
     "text": [
      "Clipping input data to the valid range for imshow with RGB data ([0..1] for floats or [0..255] for integers).\n"
     ]
    },
    {
     "data": {
      "text/plain": [
       "<matplotlib.image.AxesImage at 0x7f3579f56790>"
      ]
     },
     "execution_count": 4,
     "metadata": {},
     "output_type": "execute_result"
    },
    {
     "data": {
      "image/png": "[encoded data removed]",
      "text/plain": [
       "<Figure size 432x288 with 1 Axes>"
      ]
     },
     "metadata": {
      "needs_background": "light"
     },
     "output_type": "display_data"
    }
   ],
   "source": [
    "plt.imshow(img.cpu().detach().numpy()[0].reshape((512, 512, 3)))"
   ]
  },
  {
   "cell_type": "code",
   "execution_count": 85,
   "id": "9fa4d96d-71ac-42ee-b953-797df93001af",
   "metadata": {},
   "outputs": [
    {
     "data": {
      "text/plain": [
       "array([ 0,  1,  7,  8, 13, 14, 16, 17])"
      ]
     },
     "execution_count": 85,
     "metadata": {},
     "output_type": "execute_result"
    }
   ],
   "source": [
    "np.unique(p2)"
   ]
  },
  {
   "cell_type": "code",
   "execution_count": 83,
   "id": "7e627235-3781-4b2d-bd6a-8473710fad0a",
   "metadata": {},
   "outputs": [],
   "source": [
    "p2 = parsing.copy()"
   ]
  },
  {
   "cell_type": "code",
   "execution_count": 84,
   "id": "b611cf11-d839-44f4-9679-ef6a1d4720fc",
   "metadata": {},
   "outputs": [],
   "source": [
    "for att in face_idx[1:]:\n",
    "    p2[p2 == att] = face_idx[0]"
   ]
  },
  {
   "cell_type": "code",
   "execution_count": 105,
   "id": "suspected-mandate",
   "metadata": {},
   "outputs": [
    {
     "data": {
      "text/plain": [
       "<matplotlib.image.AxesImage at 0x7f799efd2850>"
      ]
     },
     "execution_count": 105,
     "metadata": {},
     "output_type": "execute_result"
    },
    {
     "data": {
      "image/png": "[encoded data removed]",
      "text/plain": [
       "<Figure size 432x288 with 1 Axes>"
      ]
     },
     "metadata": {
      "needs_background": "light"
     },
     "output_type": "display_data"
    }
   ],
   "source": [
    "plt.imshow(p2 == 7)"
   ]
  },
  {
   "cell_type": "code",
   "execution_count": 26,
   "id": "86995d30-0f0f-45c9-92ee-999eb86d50ce",
   "metadata": {},
   "outputs": [
    {
     "ename": "ValueError",
     "evalue": "The truth value of an array with more than one element is ambiguous. Use a.any() or a.all()",
     "output_type": "error",
     "traceback": [
      "\u001b[0;31m---------------------------------------------------------------------------\u001b[0m",
      "\u001b[0;31mValueError\u001b[0m                                Traceback (most recent call last)",
      "\u001b[0;32m<ipython-input-26-fb0b3ea010f3>\u001b[0m in \u001b[0;36m<module>\u001b[0;34m\u001b[0m\n\u001b[0;32m----> 1\u001b[0;31m \u001b[0mparsing\u001b[0m\u001b[0;34m==\u001b[0m\u001b[0;36m1\u001b[0m \u001b[0;34m&\u001b[0m \u001b[0mparsing\u001b[0m\u001b[0;34m==\u001b[0m\u001b[0;36m2\u001b[0m\u001b[0;34m\u001b[0m\u001b[0;34m\u001b[0m\u001b[0m\n\u001b[0m",
      "\u001b[0;31mValueError\u001b[0m: The truth value of an array with more than one element is ambiguous. Use a.any() or a.all()"
     ]
    }
   ],
   "source": [
    "parsing==1 & parsing==2"
   ]
  },
  {
   "cell_type": "code",
   "execution_count": 65,
   "id": "02745ae9-7cb7-4cbc-b414-0bfdbbd5480d",
   "metadata": {},
   "outputs": [
    {
     "data": {
      "text/plain": [
       "'skin'"
      ]
     },
     "execution_count": 65,
     "metadata": {},
     "output_type": "execute_result"
    }
   ],
   "source": [
    "face[0]"
   ]
  },
  {
   "cell_type": "code",
   "execution_count": null,
   "id": "24cb0d68-8ea7-48a0-b2df-93f8eaf9fdc3",
   "metadata": {},
   "outputs": [],
   "source": []
  },
  {
   "cell_type": "code",
   "execution_count": 98,
   "id": "96d78636-9688-4ae9-a1d4-8a4a74924746",
   "metadata": {},
   "outputs": [],
   "source": [
    "face_idx = [1, 2, 3, 4, 5, 9, 10, 11, 12]\n",
    "parsed_face = (parsing == face_idx[0])\n",
    "for att in face_idx[1:]:\n",
    "    parsed_face = parsed_face | (parsing == att)"
   ]
  },
  {
   "cell_type": "code",
   "execution_count": 63,
   "id": "74a2130b-90d5-4b2e-9faf-295877034ccd",
   "metadata": {},
   "outputs": [
    {
     "ename": "AttributeError",
     "evalue": "'bool' object has no attribute 'shape'",
     "output_type": "error",
     "traceback": [
      "\u001b[0;31m---------------------------------------------------------------------------\u001b[0m",
      "\u001b[0;31mAttributeError\u001b[0m                            Traceback (most recent call last)",
      "\u001b[0;32m<ipython-input-63-d676e28a8e1d>\u001b[0m in \u001b[0;36m<module>\u001b[0;34m\u001b[0m\n\u001b[0;32m----> 1\u001b[0;31m \u001b[0mparsed_face\u001b[0m\u001b[0;34m.\u001b[0m\u001b[0mshape\u001b[0m\u001b[0;34m\u001b[0m\u001b[0;34m\u001b[0m\u001b[0m\n\u001b[0m",
      "\u001b[0;31mAttributeError\u001b[0m: 'bool' object has no attribute 'shape'"
     ]
    }
   ],
   "source": [
    "parsed_face.shape"
   ]
  },
  {
   "cell_type": "code",
   "execution_count": 71,
   "id": "cad9716b-1cc0-4518-a065-a2189b0685e5",
   "metadata": {},
   "outputs": [
    {
     "data": {
      "text/plain": [
       "<matplotlib.image.AxesImage at 0x7f799d470940>"
      ]
     },
     "execution_count": 71,
     "metadata": {},
     "output_type": "execute_result"
    },
    {
     "data": {
      "image/png": "[encoded data removed]",
      "text/plain": [
       "<Figure size 432x288 with 1 Axes>"
      ]
     },
     "metadata": {
      "needs_background": "light"
     },
     "output_type": "display_data"
    }
   ],
   "source": [
    "plt.imshow(parsed_face==1)"
   ]
  },
  {
   "cell_type": "code",
   "execution_count": 18,
   "id": "consistent-alloy",
   "metadata": {},
   "outputs": [
    {
     "data": {
      "text/plain": [
       "(512, 512)"
      ]
     },
     "execution_count": 18,
     "metadata": {},
     "output_type": "execute_result"
    }
   ],
   "source": [
    "parsing.shape"
   ]
  },
  {
   "cell_type": "code",
   "execution_count": 108,
   "id": "established-shopping",
   "metadata": {},
   "outputs": [
    {
     "name": "stdout",
     "output_type": "stream",
     "text": [
      "['l_brow' 'r_brow' 'l_eye' 'r_eye' 'eye_g' 'mouth' 'u_lip' 'l_lip' 'neck']\n"
     ]
    }
   ],
   "source": [
    "atts = ['skin', 'l_brow', 'r_brow', 'l_eye', 'r_eye', 'eye_g', 'l_ear', 'r_ear', 'ear_r',\n",
    "                'nose', 'mouth', 'u_lip', 'l_lip', 'neck', 'neck_l', 'cloth', 'hair', 'hat']\n",
    "print(np.array(atts)[[1, 2, 3, 4, 5,  10, 11, 12, 13]])"
   ]
  },
  {
   "cell_type": "code",
   "execution_count": 50,
   "id": "fb6c87a4-4825-424d-8ba1-711c3095023f",
   "metadata": {},
   "outputs": [],
   "source": [
    "face = np.array(atts)[[0, 1, 2, 3, 4, 5, 9, 10, 11, 12]]"
   ]
  },
  {
   "cell_type": "code",
   "execution_count": 55,
   "id": "7b64437b-6337-4fec-8c56-2df1b1cafce9",
   "metadata": {},
   "outputs": [
    {
     "name": "stderr",
     "output_type": "stream",
     "text": [
      "<ipython-input-55-f0a9de9647c5>:1: FutureWarning: elementwise comparison failed; returning scalar instead, but in the future will perform elementwise comparison\n",
      "  np.where(parsing in face)\n"
     ]
    },
    {
     "data": {
      "text/plain": [
       "(array([], dtype=int64),)"
      ]
     },
     "execution_count": 55,
     "metadata": {},
     "output_type": "execute_result"
    }
   ],
   "source": [
    "np.where(parsing in face)"
   ]
  },
  {
   "cell_type": "code",
   "execution_count": null,
   "id": "d7dca622-c859-4540-a968-14aa1d386ee6",
   "metadata": {},
   "outputs": [],
   "source": []
  }
 ],
 "metadata": {
  "kernelspec": {
   "display_name": "Python 3",
   "language": "python",
   "name": "python3"
  },
  "language_info": {
   "codemirror_mode": {
    "name": "ipython",
    "version": 3
   },
   "file_extension": ".py",
   "mimetype": "text/x-python",
   "name": "python",
   "nbconvert_exporter": "python",
   "pygments_lexer": "ipython3",
   "version": "3.8.8"
  }
 },
 "nbformat": 4,
 "nbformat_minor": 5
}
